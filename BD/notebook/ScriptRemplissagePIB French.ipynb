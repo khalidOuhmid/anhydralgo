{
 "cells": [
  {
   "cell_type": "markdown",
   "metadata": {},
   "source": [
    "<table style=\"width:100%;\">\n",
    "    <tr style=\"display:none\">\n",
    "        <td></td>\n",
    "        <td></td>\n",
    "    </tr>\n",
    "    <tr style=\"height:3em\">\n",
    "        <td style=\"width:60%;font: bold 2.5em 'Fira Sans', serif;text-align:center\">SCRIPT DE REMPLISSAGE DE BASE   - PIB <br>\n",
    "        Durée d'exécution :  60 sec<br>\n",
    "        <br>\n",
    "    </tr>\n",
    "</table>\n",
    "\n",
    "<center>\n",
    "\n"
   ]
  },
  {
   "cell_type": "markdown",
   "metadata": {},
   "source": [
    "## Il est important d'avoir les librairies suivantes : \n",
    "- **Pandas** afin de traiter le fichier csv\n",
    "- **Pyodbc** afin de faire du sql et surtout pouvoir ce connecter à la base \n",
    "- **Pycountry** convert pour avoir le nom du continent d'un pays\n",
    "- **Date time** afin de convertir une valeur en date\n",
    "- **Time** d'avoir le temps d'exécution"
   ]
  },
  {
   "cell_type": "code",
   "execution_count": 1,
   "metadata": {},
   "outputs": [],
   "source": [
    "import pandas as pd\n",
    "import pyodbc\n",
    "import pycountry_convert as pc\n",
    "from datetime import datetime\n",
    "import time"
   ]
  },
  {
   "cell_type": "markdown",
   "metadata": {},
   "source": [
    "## Détails de connexion :\n",
    "Afin de pouvoir vous connecter à la base de données  il va falloir saisir les informations suivantes : \n",
    "- Le nom du serveur\n",
    "- Le nom de la base de données\n",
    "- Le nom d'utilisateur\n",
    "- Le mot de passe"
   ]
  },
  {
   "cell_type": "code",
   "execution_count": 2,
   "metadata": {},
   "outputs": [],
   "source": [
    "server = 'INFO-MSSQL-ETD'\n",
    "database = 'SAE_TEAM55'\n",
    "username = 'etd05'\n",
    "password = 'fqnsbtc4'\n"
   ]
  },
  {
   "cell_type": "markdown",
   "metadata": {},
   "source": [
    "## Le chemin du fichier csv\n"
   ]
  },
  {
   "cell_type": "code",
   "execution_count": 3,
   "metadata": {},
   "outputs": [],
   "source": [
    "fichiers = [\n",
    "    'Z:\\\\Documents\\\\saeTruc\\\\processed_gdp_worldbankTranslated.csv',\n",
    "]"
   ]
  },
  {
   "cell_type": "markdown",
   "metadata": {},
   "source": [
    "Afin de pouvoir avoir la région d'un pays on va stocker dans un tableau associatif en tant que clé l'indicatif du continent et en valeur le nom du continent.\n",
    "Il y a également un tableau **cont** qui va stocker les noms des continents. Cela va permettre : \n",
    "- Si un nom de pays est un nom de continent dans le csv alors, la région et le continent seront identiques (le nom du continent).\n",
    "\n"
   ]
  },
  {
   "cell_type": "code",
   "execution_count": 4,
   "metadata": {},
   "outputs": [],
   "source": [
    "continents = {\n",
    "    'NA': 'North America',\n",
    "    'SA': 'South America', \n",
    "    'AS': 'Asia',\n",
    "    'OC': 'Australia',\n",
    "    'AF': 'Africa',\n",
    "    'EU': 'Europe',\n",
    "    'WW': 'World'\n",
    "}\n",
    "cont = ['North America','South America','Asia','Australia','Africa','Europe','World','Caribbean',\n",
    "        'demographic','Euro','conflict','poor','income','IBRD','IDA','countries','OECD','small','Small',\n",
    "        'Bahamas','Channel','Dem','Rep','Curacao','Hong']"
   ]
  },
  {
   "cell_type": "markdown",
   "metadata": {},
   "source": [
    "voici donc les fameuses méthodes qui permettent d'avoir les bons nom de continents et de pays.\n",
    "- `get_Region(country_name)` : \n",
    "Permet de transformer le nom d'un pays en son continent à partir de l'indicatif du pays et le retourner grâce à la bibliothèque `pycountry_convert`  exemple : \n",
    "- France  **====>** FRA **=======>** EUROPE\n",
    "- `get_region_and_country(filename)` : \n",
    "cette méthode permet de regarder si le nom initial est un continent ou un pays. Dans le cas d'un continent le nom du pays et le nom du continent sont tout les deux le nom du continent. exemple :\n",
    "- AFRICA **=====>** region_name = AFRICA  country_name = AFRICA**\n",
    "Dans le cas d'un nom de pays on va appeler la méthode `get_Region(country_name)` afin d'avoir le continent. exemple : \n",
    "- QATAR **=======>** region_name = QATAR  country_name = QATAR **====>** region_name = ASIA  country_name = QATAR\n",
    "la méthode retourne donc le nom du continent ainsi que le pays\n"
   ]
  },
  {
   "cell_type": "code",
   "execution_count": 5,
   "metadata": {},
   "outputs": [],
   "source": [
    "def get_Region(country_name):\n",
    "    try:\n",
    "        country_code = pc.country_name_to_country_alpha2(country_name, cn_name_format=\"default\")\n",
    "        continent_name = pc.country_alpha2_to_continent_code(country_code)\n",
    "        return continents[continent_name]\n",
    "    except KeyError as e:\n",
    "        print(f\"KeyError encountered: {str(e)}\")\n",
    "        return country_name\n",
    "    except Exception as e:\n",
    "        print(f\"An unexpected error occurred: {str(e)}\")\n",
    "        return country_name\n",
    "\n",
    "def get_region_and_country(filename):\n",
    "    region_name = filename\n",
    "    country_name = filename\n",
    "    #cas de mauvaise orthographie ou de nom tronqué\n",
    "    if region_name == \"Cote d'Ivoire\":\n",
    "        country_name = 'Ivory Coast'\n",
    "    if region_name == 'Gambia, The':\n",
    "        country_name = 'Gambia'\n",
    "    #parcours du tableau associatif de continents pour regarder si\n",
    "    for continent in cont:\n",
    "        if continent in region_name:\n",
    "            return region_name, country_name\n",
    "    else:\n",
    "        region_name = get_Region(country_name)\n",
    "        return region_name, country_name\n"
   ]
  },
  {
   "cell_type": "markdown",
   "metadata": {},
   "source": [
    "Il est important de bien vérifier si la date est cohérente, \n",
    "une simple méthode peut le faire :"
   ]
  },
  {
   "cell_type": "code",
   "execution_count": 6,
   "metadata": {},
   "outputs": [],
   "source": [
    "def is_valid_date(year):\n",
    "    try:\n",
    "        datetime.strptime(f\"{year}-01-01\", \"%Y-%m-%d\")\n",
    "        return True\n",
    "    except ValueError:\n",
    "        return False"
   ]
  },
  {
   "cell_type": "markdown",
   "metadata": {},
   "source": [
    "## Insertion de données dans la base\n",
    "C'est le coeur du code, la méthode `process_row(year, region, value, filename, conn)` va insérer les données en sql sur notre base de données.\n",
    "voici les étapes pour bien insérer des données : \n",
    "- **Il faut insérer la region**\n",
    "- **Insérer le pays et lui assigner la région via l'id de cette dernière**\n",
    "- **Insérer la date**\n",
    "- **Insérer la donnée et la lié au Pays, la région et la date puis lui assigner une valeur et une unité**\n",
    "il faut bien évidemment  vérifier avant de faire une requête si la valeur à insérer n'est pas null."
   ]
  },
  {
   "cell_type": "code",
   "execution_count": 7,
   "metadata": {},
   "outputs": [],
   "source": [
    "def process_row(year, region, value, filename, conn):\n",
    "    if not is_valid_date(year):\n",
    "        print('=================================')\n",
    "        print(value)\n",
    "        print(f\"Invalid date for year: {year}\")\n",
    "        return\n",
    "\n",
    "    region_name, country_name = get_region_and_country(region)\n",
    "    unit = 'DOLLARS'\n",
    "\n",
    "    with conn.cursor() as cursor:\n",
    "        try:\n",
    "            #Insertion de la région\n",
    "            if region_name:\n",
    "                cursor.execute(\"\"\"\n",
    "                    IF NOT EXISTS (SELECT 1 FROM T_REGION_REG WHERE REG_NOM = ?)\n",
    "                    BEGIN\n",
    "                        INSERT INTO T_REGION_REG (REG_NOM) VALUES (?)\n",
    "                    END\n",
    "                \"\"\", region_name, region_name)\n",
    "                conn.commit()\n",
    "                #Récupération de l'id de la région\n",
    "                cursor.execute(\"SELECT REG_ID FROM T_REGION_REG WHERE REG_NOM = ?\", region_name)\n",
    "                row = cursor.fetchone()\n",
    "                if row:\n",
    "                    region_id = row[0]\n",
    "                else:\n",
    "                    region_id = None\n",
    "                    print(\"L'id de la région est vide\")\n",
    "            # Insertion du Pays\n",
    "            if country_name:\n",
    "                cursor.execute(\"\"\"\n",
    "                    IF NOT EXISTS (SELECT 1 FROM T_PAYS_PYS WHERE PYS_NOM = ?)\n",
    "                    BEGIN\n",
    "                        INSERT INTO T_PAYS_PYS (REG_ID, PYS_NOM) VALUES (?, ?)\n",
    "                    END\n",
    "                \"\"\", country_name, region_id, country_name)\n",
    "                conn.commit()\n",
    "            #Récupération de l'id du pays\n",
    "                cursor.execute(\"SELECT PYS_ID FROM T_PAYS_PYS WHERE PYS_NOM = ?\", country_name)\n",
    "                row = cursor.fetchone()\n",
    "                if row:\n",
    "                    country_id = row[0]\n",
    "                else:\n",
    "                    country_id = None\n",
    "            else:\n",
    "                country_id = None\n",
    "            #Insertion de la date\n",
    "            if country_id:\n",
    "                cursor.execute(\"\"\"\n",
    "                    IF NOT EXISTS (SELECT 1 FROM T_DATE_DAT WHERE DAT_DATE = ?)\n",
    "                    BEGIN\n",
    "                        INSERT INTO T_DATE_DAT (DAT_DATE) VALUES (?)\n",
    "                    END\n",
    "                \"\"\", f\"{year}-01-01\", f\"{year}-01-01\")\n",
    "                conn.commit()\n",
    "            #Récupération de l'id de la date\n",
    "                cursor.execute(\"SELECT DAT_ID FROM T_DATE_DAT WHERE DAT_DATE = ?\", f\"{year}-01-01\")\n",
    "                row = cursor.fetchone()\n",
    "                if row:\n",
    "                    date_id = row[0]\n",
    "                else:\n",
    "                    date_id = None\n",
    "            #Insertion de la donnée (id du pays,id de la date, valeur, label, unitée)\n",
    "                if date_id:\n",
    "                    cursor.execute(\"\"\"\n",
    "                        INSERT INTO T_DATA_DTA (PYS_ID, DAT_ID, DTA_VALEUR, DTA_NOM, DTA_UNITE)\n",
    "                        VALUES (?, ?, ?, ?, ?)\n",
    "                    \"\"\", country_id, date_id, value, \"GPD\", unit)\n",
    "                    conn.commit()\n",
    "        #Gestion de l'exception\n",
    "        except pyodbc.Error as e:\n",
    "            print(f\"Erreur lors de l'insertion des données : {e}\")"
   ]
  },
  {
   "cell_type": "markdown",
   "metadata": {},
   "source": [
    "## Phase de lecture du fichier csv\n",
    "avant d'insérer les méthodes il faut bien évidemment lire le fichier csv. Grâce à Pandas on peut parcourir chaque ligne du csv et les découper."
   ]
  },
  {
   "cell_type": "code",
   "execution_count": 8,
   "metadata": {},
   "outputs": [],
   "source": [
    "def process_file(filename, conn):\n",
    "    df = pd.read_csv(filename, delimiter=',', names=['Code', 'Year', 'country_name', 'Value'], skiprows=1)\n",
    "    \n",
    "    for index, row in df.iterrows():\n",
    "        if ( row['Value'] != 0 and row['Year']> 1990  ):\n",
    "            process_row(row['Year'], row['country_name'], row['Value'], filename, conn)"
   ]
  },
  {
   "cell_type": "markdown",
   "metadata": {},
   "source": [
    "## Phase de connection et de démarrage\n",
    "C'est un peu comme le main, on va essayer de se connecter à la base de données grâce à toutes les informations saisies. Et démarrer la méthode de parcours du csv."
   ]
  },
  {
   "cell_type": "code",
   "execution_count": null,
   "metadata": {},
   "outputs": [],
   "source": [
    "try:\n",
    "    #Essai de connection à la base\n",
    "    conn = pyodbc.connect(\n",
    "        'DRIVER={ODBC Driver 17 for SQL Server};'\n",
    "        f'SERVER={server};'\n",
    "        f'DATABASE={database};'\n",
    "        f'UID={username};'\n",
    "        f'PWD={password}'\n",
    "    )\n",
    "    print(\"Connexion réussie à la base de données\")\n",
    "except pyodbc.Error as e:\n",
    "    print(\"Erreur de connexion : \", e)\n",
    "    exit()\n",
    "start_time = time.time()\n",
    "# Traitement des fichiers\n",
    "for fichier in fichiers:\n",
    "    process_file(fichier, conn)\n",
    "\n",
    "#Fin\n",
    "End_time = time.time()\n",
    "print('finished')\n",
    "print(f\"Temps total utilisé : {End_time - start_time:.2f} secondes\")\n",
    "conn.close()"
   ]
  }
 ],
 "metadata": {
  "kernelspec": {
   "display_name": "Python 3",
   "language": "python",
   "name": "python3"
  },
  "language_info": {
   "codemirror_mode": {
    "name": "ipython",
    "version": 3
   },
   "file_extension": ".py",
   "mimetype": "text/x-python",
   "name": "python",
   "nbconvert_exporter": "python",
   "pygments_lexer": "ipython3",
   "version": "3.11.4"
  }
 },
 "nbformat": 4,
 "nbformat_minor": 2
}
